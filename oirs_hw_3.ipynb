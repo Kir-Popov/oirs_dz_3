{
 "cells": [
  {
   "cell_type": "markdown",
   "metadata": {
    "id": "7uLSt3vBI0zr"
   },
   "source": [
    "# Домашнее задание 3. Свёрточные и рекуррентные нейронные сети\n",
    "## Фамилия Имя Группа"
   ]
  },
  {
   "cell_type": "markdown",
   "metadata": {
    "id": "2JxNVonhRMgf"
   },
   "source": [
    "В зависимости от варианта, для решения задачи используйте следующие наборы данных:\n",
    "\n",
    "<table>\n",
    "    <thead>\n",
    "         <tr>\n",
    "            <th colspan=1>Задача генерации</th>\n",
    "            <th colspan=5>Задача классификации</th>\n",
    "        </tr>\n",
    "        <tr>\n",
    "            <th> </th>\n",
    "            <th>A</th>\n",
    "            <th>B</th>\n",
    "            <th>C</th>\n",
    "            <th>D</th>\n",
    "            <th>E</th>\n",
    "        </tr>\n",
    "    </thead>\n",
    "    <tbody>\n",
    "        <tr>\n",
    "            <td>K</td>\n",
    "            <td>1</td>\n",
    "            <td>2</td>\n",
    "            <td>3</td>\n",
    "            <td>4</td>\n",
    "            <td>5</td>\n",
    "        </tr>\n",
    "        <tr>\n",
    "            <td>L</td>\n",
    "            <td>6</td>\n",
    "            <td>7</td>\n",
    "            <td>8</td>\n",
    "            <td>9</td>\n",
    "            <td>10</td>\n",
    "        </tr>\n",
    "        <tr>\n",
    "            <td>M</td>\n",
    "            <td>11</td>\n",
    "            <td>12</td>\n",
    "            <td>13</td>\n",
    "            <td>14</td>\n",
    "            <td>15</td>\n",
    "        </tr>\n",
    "        <tr>\n",
    "            <td>N</td>\n",
    "            <td>16</td>\n",
    "            <td>17</td>\n",
    "            <td>18</td>\n",
    "            <td>19</td>\n",
    "            <td>20</td>\n",
    "        </tr>\n",
    "        <tr>\n",
    "            <td>O</td>\n",
    "            <td>21</td>\n",
    "            <td>22</td>\n",
    "            <td>23</td>\n",
    "            <td>24</td>\n",
    "            <td>25</td>\n",
    "        </tr>\n",
    "    </tbody>\n",
    "</table>\n",
    "\n",
    "### Наборы данных\n",
    "\n",
    "**Задача классификации картинок**\n",
    "\n",
    "A. [Набор данных \"Fashion MNIST\"](https://pytorch.org/vision/main/generated/torchvision.datasets.FashionMNIST.html) `torchvision.datasets.FashionMNIST train=True и False`\n",
    "\n",
    "B. [Набор данных \"Текстуры\"](https://pytorch.org/vision/main/generated/torchvision.datasets.DTD.html#torchvision.datasets.DTD) `torchvision.datasets.DTD split='train' и 'test'`\n",
    "\n",
    "C. [Набор данных \"Буквы\"](https://pytorch.org/vision/main/generated/torchvision.datasets.EMNIST.html#torchvision.datasets.EMNIST) `torchvision.datasets.EMNIST split=letters train=True и False`\n",
    "\n",
    "D. [Набор данных \"Кошки и собаки\"](https://pytorch.org/vision/main/generated/torchvision.datasets.OxfordIIITPet.html) `torchvision.datasets.OxfordIIITPet split = 'trainval' и 'test'` (объекты разбиты по породам (всего 37 пород), нужно построить бинарный классификатор собак и кошек)\n",
    "\n",
    "E. [Набор данных \"Дорожные знаки\"](https://pytorch.org/vision/main/generated/torchvision.datasets.GTSRB.html) `torchvision.datasets.GTSRB split = 'train' и 'test'`\n",
    "\n",
    "\n",
    "---\n",
    "\n",
    "**Задача генерации текстов**\n",
    "\n",
    "K. [Набор данных \"Евгений Онегин\"]() `onegin.txt`\n",
    "\n",
    "L. [Набор данных \"Война и Мир\"]() `war_and_piece.txt`\n",
    "\n",
    "M. [Набор данных \"Стихи\"]() `stihi.csv`\n",
    "\n",
    "N. [Набор данных \"Сказки\"]() `fairytales.txt`\n",
    "\n",
    "O. [Набор данных \"Новости\"]() `news.txt` или https://github.com/yutkin/Lenta.Ru-News-Dataset/releases"
   ]
  },
  {
   "cell_type": "markdown",
   "metadata": {
    "heading_collapsed": true,
    "id": "zsqatIg_JBu7"
   },
   "source": [
    "# 0. Инициализация библиотек"
   ]
  },
  {
   "cell_type": "code",
   "execution_count": 16,
   "metadata": {
    "hidden": true,
    "id": "WGZt4ftTJxg4"
   },
   "outputs": [],
   "source": [
    "import numpy as np\n",
    "import pandas as pd\n",
    "import torch, torchvision \n",
    "from torch import nn \n",
    "from torch import optim \n",
    "from torchvision.transforms import ToTensor \n",
    "import torch.nn.functional as F \n",
    "import matplotlib.pyplot as plt\n",
    "import requests\n",
    "from PIL import Image\n",
    "from io import BytesIO\n",
    "import copy\n",
    "import re \n",
    "\n",
    "\n",
    "numb_batch = 64"
   ]
  },
  {
   "cell_type": "markdown",
   "metadata": {
    "hidden": true,
    "id": "aGY7pMa8_vhU"
   },
   "source": [
    "Подсказка по разделению пород на два класса"
   ]
  },
  {
   "cell_type": "markdown",
   "metadata": {
    "id": "5oGgl1uGJBxH"
   },
   "source": [
    "# 1. Свёрточная нейронная сеть для классификации изображений (9 баллов)"
   ]
  },
  {
   "cell_type": "markdown",
   "metadata": {
    "id": "qV47VXssLKa9"
   },
   "source": [
    "## 1.1 Загрузка данных, разделение на train и test\n",
    "\n",
    "Загрузите данные при помощи torchvision.datasets. Можете предусмотреть опредлённые транфсофрмации картинки, например, изменение размера до 128 px, кроп по центру в 196 px и преобразование к классу torch.Tensor:\n",
    "\n",
    "```\n",
    "import torchvision\n",
    "\n",
    "\n",
    "transform = torchvision.transforms.Compose([\n",
    "    # resize\n",
    "    torchvision.transforms.Resize(128),\n",
    "    torchvision.transforms.CenterCrop(196),\n",
    "    torchvision.transforms.ToTensor()\n",
    "])\n",
    "```"
   ]
  },
  {
   "cell_type": "code",
   "execution_count": 17,
   "metadata": {
    "id": "XjIoB9zTKAY2"
   },
   "outputs": [
    {
     "name": "stdout",
     "output_type": "stream",
     "text": [
      "['T-shirt/top', 'Trouser', 'Pullover', 'Dress', 'Coat', 'Sandal', 'Shirt', 'Sneaker', 'Bag', 'Ankle boot']\n"
     ]
    }
   ],
   "source": [
    "dataset = torchvision.datasets.FashionMNIST(\n",
    "    root = './data/FashionMNIST',\n",
    "    train = True,\n",
    "    download = True,\n",
    "    transform = torchvision.transforms.Compose([\n",
    "    torchvision.transforms.Resize((32,32)),\n",
    "    torchvision.transforms.CenterCrop(196),\n",
    "    torchvision.transforms.ToTensor()                                \n",
    "    ])\n",
    ")\n",
    "\n",
    "print(dataset.classes)"
   ]
  },
  {
   "cell_type": "code",
   "execution_count": 31,
   "metadata": {},
   "outputs": [],
   "source": [
    "test_size = 0.2 \n",
    "nb_train = int((1.0 - test_size) * len(dataset))\n",
    "nb_valid =  int(test_size * len(dataset))\n",
    "train_dataset, test_dataset = torch.utils.data.dataset.random_split(dataset, [nb_train, nb_valid])\n",
    "train_dl = torch.utils.data.DataLoader(train_dataset, batch_size = numb_batch)\n",
    "test_dl = torch.utils.data.DataLoader(test_dataset, batch_size = numb_batch)"
   ]
  },
  {
   "cell_type": "markdown",
   "metadata": {
    "id": "MYWcgRrZSWfY"
   },
   "source": [
    "## 1.2 Предобработка данных (по необходимости)"
   ]
  },
  {
   "cell_type": "code",
   "execution_count": null,
   "metadata": {
    "id": "C-LVM7AwJ8si"
   },
   "outputs": [],
   "source": []
  },
  {
   "cell_type": "markdown",
   "metadata": {
    "id": "tP7e_V16J9zV"
   },
   "source": [
    "## 1.3 Инициализация объекта свёрточной нейронной сети\n",
    "\n",
    "Создайте нейронную сеть с 2-4 свёрточными слоями. В остальном конфигурация сети может быть произвольной. "
   ]
  },
  {
   "cell_type": "code",
   "execution_count": 13,
   "metadata": {
    "id": "YcsgF13xhcEa"
   },
   "outputs": [],
   "source": [
    "model = nn.Sequential(\n",
    "        nn.Conv2d(1, 6, 5, padding=2),\n",
    "        nn.ReLU(),\n",
    "        nn.AvgPool2d(2, stride=2),\n",
    "        nn.Conv2d(6, 16, 5, padding=0),\n",
    "        nn.ReLU(),\n",
    "        nn.AvgPool2d(2, stride=2),\n",
    "        nn.Flatten(),\n",
    "        nn.Linear(35344, 120),\n",
    "        nn.ReLU(),\n",
    "        nn.Linear(120, 84),\n",
    "        nn.ReLU(),\n",
    "        nn.Linear(84, 10)\n",
    "    )"
   ]
  },
  {
   "cell_type": "markdown",
   "metadata": {
    "id": "fH3m86cZKMDU"
   },
   "source": [
    "## 1.4 Обучение сввёрточной нейронной сети для решения задачи классификации"
   ]
  },
  {
   "cell_type": "code",
   "execution_count": 18,
   "metadata": {
    "id": "qW6LwnnQKQ04"
   },
   "outputs": [],
   "source": [
    "def train(model, numb_epoch=3, lr=1e-3, device=\"cpu\"):\n",
    "    accuracies = []\n",
    "    cnn = model.to(device)\n",
    "    cec = nn.CrossEntropyLoss()\n",
    "    optimizer = optim.Adam(cnn.parameters(), lr=lr)\n",
    "    max_accuracy = 0\n",
    "    for epoch in range(numb_epoch):\n",
    "        for i, (images, labels) in enumerate(train_dl):\n",
    "            images = images.to(device)\n",
    "            labels = labels.to(device)\n",
    "            optimizer.zero_grad()\n",
    "            pred = cnn(images)\n",
    "            loss = cec(pred, labels)\n",
    "            loss.backward()\n",
    "            optimizer.step()\n",
    "        accuracy = float(validate(cnn, test_dl))\n",
    "        accuracies.append(accuracy)\n",
    "        if accuracy > max_accuracy:\n",
    "            best_model = copy.deepcopy(cnn)\n",
    "            max_accuracy = accuracy\n",
    "        print('Эпоха:', epoch+1,' из ',numb_epoch, \"Текущая точность :\", accuracy, '%')\n",
    "    plt.plot(accuracies)\n",
    "    return best_model\n",
    "\n",
    "def predict_dl(model, data):\n",
    "    y_pred = []\n",
    "    y_true = []\n",
    "    for i, (images, labels) in enumerate(data):\n",
    "        images = images.cuda()\n",
    "        x = model(images)\n",
    "        value, pred = torch.max(x, 1)\n",
    "        pred = pred.data.cpu()\n",
    "        y_pred.extend(list(pred.numpy()))\n",
    "        y_true.extend(list(labels.numpy()))\n",
    "        s = 0\n",
    "        i = 0\n",
    "    for elem in np.array(y_true):\n",
    "        if np.array(y_true)[i] == np.array(y_pred)[i]:\n",
    "            s = s + 1\n",
    "            i = i + 1\n",
    "    print(\"Точность на тестовых данных достигла \", s/len(np.array(y_pred))*100,\"%\" )\n",
    "    return np.array(y_pred), np.array(y_true)\n",
    "\n",
    "def validate(model, data):\n",
    "    total = 0\n",
    "    correct = 0\n",
    "    for i, (images, labels) in enumerate(data):\n",
    "        images = images.cuda()\n",
    "        x = model(images)\n",
    "        value, pred = torch.max(x,1)\n",
    "        pred = pred.data.cpu()\n",
    "        total += x.size(0)\n",
    "        correct += torch.sum(pred == labels)\n",
    "    return correct*100./total\n",
    "\n",
    "device = torch.device(\"cuda:0\")"
   ]
  },
  {
   "cell_type": "code",
   "execution_count": 35,
   "metadata": {
    "scrolled": false
   },
   "outputs": [
    {
     "name": "stdout",
     "output_type": "stream",
     "text": [
      "Эпоха: 1  из  10 Текущая точность : 85.98332977294922 %\n",
      "Эпоха: 2  из  10 Текущая точность : 87.31666564941406 %\n",
      "Эпоха: 3  из  10 Текущая точность : 87.9749984741211 %\n",
      "Эпоха: 4  из  10 Текущая точность : 88.38333129882812 %\n",
      "Эпоха: 5  из  10 Текущая точность : 88.44999694824219 %\n",
      "Эпоха: 6  из  10 Текущая точность : 89.23332977294922 %\n",
      "Эпоха: 7  из  10 Текущая точность : 89.32499694824219 %\n",
      "Эпоха: 8  из  10 Текущая точность : 89.58333587646484 %\n",
      "Эпоха: 9  из  10 Текущая точность : 89.82499694824219 %\n",
      "Эпоха: 10  из  10 Текущая точность : 90.0250015258789 %\n"
     ]
    },
    {
     "data": {
      "image/png": "[encoded data removed]",
      "text/plain": [
       "<Figure size 432x288 with 1 Axes>"
      ]
     },
     "metadata": {
      "needs_background": "light"
     },
     "output_type": "display_data"
    }
   ],
   "source": [
    "model = train(model, 10, device = device)"
   ]
  },
  {
   "cell_type": "markdown",
   "metadata": {
    "id": "ML_5LCyrKSv9"
   },
   "source": [
    "## 1.5 Агументация данных и регулряизации нейросети\n",
    "\n",
    "Попобуйте добавить аугументацию (случайные повороты, увеличение, уменьшение) в данные, а также регуляризацию (Drop out и Batch Norm слои) в модель. Как меняется метрика accuracy на обучающей и тестовой выборке в процессе обучения? Постройте график."
   ]
  },
  {
   "cell_type": "code",
   "execution_count": 19,
   "metadata": {
    "id": "N90xjiR9Dkgb"
   },
   "outputs": [],
   "source": [
    "dataset_augm = torchvision.datasets.FashionMNIST(\n",
    "    root = './data/FashionMNIST',\n",
    "    train = True,\n",
    "    download = True,\n",
    "    transform = torchvision.transforms.Compose([\n",
    "    torchvision.transforms.Resize((32,32)),\n",
    "    torchvision.transforms.CenterCrop(196),\n",
    "    torchvision.transforms.RandomVerticalFlip(),\n",
    "    torchvision.transforms.RandomHorizontalFlip(),\n",
    "    torchvision.transforms.RandomResizedCrop(size=(60, 60), scale=(0.08, 1.0), ratio=(0.5, 2.0)),\n",
    "    torchvision.transforms.Resize((32,32)),\n",
    "    torchvision.transforms.ToTensor()                                 \n",
    "    ])\n",
    ")"
   ]
  },
  {
   "cell_type": "code",
   "execution_count": 20,
   "metadata": {},
   "outputs": [],
   "source": [
    "test_size = 0.2 \n",
    "nb_train = int((1.0 - test_size) * len(dataset_augm))\n",
    "nb_valid =  int(test_size * len(dataset_augm))\n",
    "train_dataset, test_dataset = torch.utils.data.dataset.random_split(dataset_augm, [nb_train, nb_valid])\n",
    "train_dl = torch.utils.data.DataLoader(train_dataset_a, batch_size = numb_batch)\n",
    "test_dl = torch.utils.data.DataLoader(train_dataset_a, batch_size = numb_batch)"
   ]
  },
  {
   "cell_type": "code",
   "execution_count": 21,
   "metadata": {},
   "outputs": [],
   "source": [
    "model = nn.Sequential(\n",
    "        nn.Conv2d(1, 6, 5, padding=2),\n",
    "        nn.ReLU(), nn.Dropout(),\n",
    "        nn.AvgPool2d(2, stride=2),\n",
    "        nn.Conv2d(6, 16, 5, padding=0),\n",
    "        nn.ReLU(), nn.Dropout(),\n",
    "        nn.AvgPool2d(2, stride=2),\n",
    "        nn.Flatten(),\n",
    "        nn.Linear(576, 120),\n",
    "        nn.ReLU(), \n",
    "        nn.Linear(120, 84),\n",
    "        nn.ReLU(),\n",
    "        nn.Linear(84, 10)\n",
    "    )"
   ]
  },
  {
   "cell_type": "markdown",
   "metadata": {
    "id": "aTD5QBT-bsnu"
   },
   "source": [
    "## 1.6 Обучение нейросети на данных с аугументацией "
   ]
  },
  {
   "cell_type": "code",
   "execution_count": 22,
   "metadata": {
    "id": "rmlsO4C2bsii"
   },
   "outputs": [
    {
     "name": "stdout",
     "output_type": "stream",
     "text": [
      "Эпоха: 1  из  40 Текущая точность : 26.879167556762695 %\n",
      "Эпоха: 2  из  40 Текущая точность : 29.618749618530273 %\n",
      "Эпоха: 3  из  40 Текущая точность : 30.82291603088379 %\n",
      "Эпоха: 4  из  40 Текущая точность : 34.21666717529297 %\n",
      "Эпоха: 5  из  40 Текущая точность : 37.01874923706055 %\n",
      "Эпоха: 6  из  40 Текущая точность : 37.75 %\n",
      "Эпоха: 7  из  40 Текущая точность : 40.15833282470703 %\n",
      "Эпоха: 8  из  40 Текущая точность : 41.20000076293945 %\n",
      "Эпоха: 9  из  40 Текущая точность : 41.52708435058594 %\n",
      "Эпоха: 10  из  40 Текущая точность : 42.14583206176758 %\n",
      "Эпоха: 11  из  40 Текущая точность : 42.19166564941406 %\n",
      "Эпоха: 12  из  40 Текущая точность : 43.016666412353516 %\n",
      "Эпоха: 13  из  40 Текущая точность : 42.875 %\n",
      "Эпоха: 14  из  40 Текущая точность : 43.12083435058594 %\n",
      "Эпоха: 15  из  40 Текущая точность : 43.59583282470703 %\n",
      "Эпоха: 16  из  40 Текущая точность : 43.422916412353516 %\n",
      "Эпоха: 17  из  40 Текущая точность : 43.87916564941406 %\n",
      "Эпоха: 18  из  40 Текущая точность : 44.51874923706055 %\n",
      "Эпоха: 19  из  40 Текущая точность : 44.170833587646484 %\n",
      "Эпоха: 20  из  40 Текущая точность : 44.93333435058594 %\n",
      "Эпоха: 21  из  40 Текущая точность : 44.98958206176758 %\n",
      "Эпоха: 22  из  40 Текущая точность : 44.53125 %\n",
      "Эпоха: 23  из  40 Текущая точность : 45.60416793823242 %\n",
      "Эпоха: 24  из  40 Текущая точность : 45.86249923706055 %\n",
      "Эпоха: 25  из  40 Текущая точность : 45.46458435058594 %\n",
      "Эпоха: 26  из  40 Текущая точность : 45.59791564941406 %\n",
      "Эпоха: 27  из  40 Текущая точность : 46.150001525878906 %\n",
      "Эпоха: 28  из  40 Текущая точность : 46.09166717529297 %\n",
      "Эпоха: 29  из  40 Текущая точность : 45.985416412353516 %\n",
      "Эпоха: 30  из  40 Текущая точность : 46.20833206176758 %\n",
      "Эпоха: 31  из  40 Текущая точность : 46.15833282470703 %\n",
      "Эпоха: 32  из  40 Текущая точность : 46.04375076293945 %\n",
      "Эпоха: 33  из  40 Текущая точность : 46.57291793823242 %\n",
      "Эпоха: 34  из  40 Текущая точность : 46.54166793823242 %\n",
      "Эпоха: 35  из  40 Текущая точность : 46.34375 %\n",
      "Эпоха: 36  из  40 Текущая точность : 46.77291488647461 %\n",
      "Эпоха: 37  из  40 Текущая точность : 46.78125 %\n",
      "Эпоха: 38  из  40 Текущая точность : 46.90208435058594 %\n",
      "Эпоха: 39  из  40 Текущая точность : 46.431251525878906 %\n",
      "Эпоха: 40  из  40 Текущая точность : 47.297916412353516 %\n"
     ]
    },
    {
     "data": {
      "image/png": "[encoded data removed]",
      "text/plain": [
       "<Figure size 432x288 with 1 Axes>"
      ]
     },
     "metadata": {
      "needs_background": "light"
     },
     "output_type": "display_data"
    }
   ],
   "source": [
    "model = train(model, 40, device = device)"
   ]
  },
  {
   "cell_type": "markdown",
   "metadata": {
    "id": "uydqxWwQKWYQ"
   },
   "source": [
    "## 1.7 Выводы\n",
    "\n",
    "Что удалось попробовать? Что получилось, а что — нет? Повлияло ли добавление аугументации на качество?"
   ]
  },
  {
   "cell_type": "raw",
   "metadata": {},
   "source": [
    "Точность без аугументации получилась доcтаточно неплохая, учитывая чтобы много классов похожи друг на друга (не каждый челоек отличит pullower от coat). \n",
    "\n",
    "После добавления аугументации точность достаточно сильно упала, даже учитывая что я увеличил в 4 раза количество эпох при обучении. Насколько я понял рандомные повороты сильно влияют на обучение, поэтому один из вариантов искусственно увеличить датасет. Разбить поворот картинки на сектора (например на 10 секторов) и для каждого сектора скормить весь дататсет. Тогда данных для обучения будет больше и модель обучится лучше."
   ]
  },
  {
   "cell_type": "markdown",
   "metadata": {
    "id": "D5G-61iAKh0A"
   },
   "source": [
    "# 2. Рекуррентная нейронная сеть для генерации текстов (9 баллов)"
   ]
  },
  {
   "cell_type": "markdown",
   "metadata": {
    "id": "BIVlZeMLKwc6"
   },
   "source": [
    "## 2.1 Загрузка данных\n",
    "\n"
   ]
  },
  {
   "cell_type": "code",
   "execution_count": 112,
   "metadata": {
    "id": "m0CBKtrJL9kt",
    "scrolled": false
   },
   "outputs": [
    {
     "data": {
      "text/html": [
       "<div>\n",
       "<style scoped>\n",
       "    .dataframe tbody tr th:only-of-type {\n",
       "        vertical-align: middle;\n",
       "    }\n",
       "\n",
       "    .dataframe tbody tr th {\n",
       "        vertical-align: top;\n",
       "    }\n",
       "\n",
       "    .dataframe thead th {\n",
       "        text-align: right;\n",
       "    }\n",
       "</style>\n",
       "<table border=\"1\" class=\"dataframe\">\n",
       "  <thead>\n",
       "    <tr style=\"text-align: right;\">\n",
       "      <th></th>\n",
       "      <th>text</th>\n",
       "    </tr>\n",
       "  </thead>\n",
       "  <tbody>\n",
       "    <tr>\n",
       "      <th>0</th>\n",
       "      <td>\\r\\nДетки мои  Живите неспеша   чтоб пела ...</td>\n",
       "    </tr>\n",
       "    <tr>\n",
       "      <th>1</th>\n",
       "      <td>Каждый по своему проводит свою ночь\\r\\nКто спи...</td>\n",
       "    </tr>\n",
       "    <tr>\n",
       "      <th>2</th>\n",
       "      <td>Нежно так  я словами касался предплечий\\r\\nИх ...</td>\n",
       "    </tr>\n",
       "    <tr>\n",
       "      <th>3</th>\n",
       "      <td>Ты  как всегда  меня поймешь\\r\\nИ  как всегда ...</td>\n",
       "    </tr>\n",
       "    <tr>\n",
       "      <th>4</th>\n",
       "      <td>Укусить бы кого нибудь больно\\r\\nиль повыть  п...</td>\n",
       "    </tr>\n",
       "  </tbody>\n",
       "</table>\n",
       "</div>"
      ],
      "text/plain": [
       "                                                text\n",
       "0      \\r\\nДетки мои  Живите неспеша   чтоб пела ...\n",
       "1  Каждый по своему проводит свою ночь\\r\\nКто спи...\n",
       "2  Нежно так  я словами касался предплечий\\r\\nИх ...\n",
       "3  Ты  как всегда  меня поймешь\\r\\nИ  как всегда ...\n",
       "4  Укусить бы кого нибудь больно\\r\\nиль повыть  п..."
      ]
     },
     "execution_count": 112,
     "metadata": {},
     "output_type": "execute_result"
    }
   ],
   "source": [
    "import sys\n",
    "import nltk\n",
    "from nltk import word_tokenize\n",
    "from nltk.corpus import stopwords\n",
    "from nltk.tokenize import RegexpTokenizer\n",
    "from nltk.corpus import stopwords\n",
    "from keras.models import Sequential\n",
    "from keras.layers import Dense, Dropout, LSTM\n",
    "from keras.utils import np_utils\n",
    "from keras.callbacks import ModelCheckpoint\n",
    "\n",
    "\n",
    "data = pd.read_csv(\"M_stihi.csv\", encoding = \"utf-8\")\n",
    "\n",
    "# убираем столбец автор\n",
    "data.pop('author')\n",
    "data.head()"
   ]
  },
  {
   "cell_type": "markdown",
   "metadata": {
    "id": "v4TTaWpIKwc9"
   },
   "source": [
    "## 2.2 Преодбработка/нормализация данных по необходимости\n",
    "\n",
    "Например, можно привести все слова к нижнему регистру"
   ]
  },
  {
   "cell_type": "code",
   "execution_count": 113,
   "metadata": {
    "id": "qtBeZ7VRVfxn"
   },
   "outputs": [
    {
     "name": "stdout",
     "output_type": "stream",
     "text": [
      "сердце снова замерло в тревоге мысли толпами проносятся в мозгу кажется опять ты на обочине дороги кажется что всё  я больше не могу снова от тебя удача ускользает как сквозь пальцы сыплется песок почему же сердце так страдает ведь ещё не вышел жизни срок жизнь  она дана нам  чтобы жить жить  чтобы душою чище стать жить  чтоб быть любимым и любить чтоб ни что по жизни не терять не теряя тех  кто дорог вам и мил не теряя тех  что очень любишь ты и дай бог чтоб каждый так же жил смерть не стоит даже мизерной мечты\n"
     ]
    }
   ],
   "source": [
    "data_lower = []\n",
    "\n",
    "for row in data['text']:\n",
    "    # Заменяем перевод строки на пробелы\n",
    "    row = row.replace('\\r\\n', ' ')\\\n",
    "    \n",
    "    # Приводим к нижнему регистру\n",
    "    row = row.lower()\n",
    "    data_lower.append(row)\n",
    "    \n",
    "# data = data_lower\n",
    "\n",
    "print(data_lower[10])"
   ]
  },
  {
   "cell_type": "code",
   "execution_count": 114,
   "metadata": {},
   "outputs": [
    {
     "name": "stdout",
     "output_type": "stream",
     "text": [
      "['\\t', '\\x0b', ' ', '_', 'a', 'b', 'c', 'd', 'e', 'f', 'g', 'h', 'i', 'j', 'k', 'l', 'm', 'n', 'o', 'p', 'q', 'r', 's', 't', 'u', 'v', 'w', 'x', 'y', 'z', '|', 'µ', 'ß', 'á', 'ä', 'ó', 'ö', 'ü', 'ý', 'š', 'а', 'б', 'в', 'г', 'д', 'е', 'ж', 'з', 'и', 'й', 'к', 'л', 'м', 'н', 'о', 'п', 'р', 'с', 'т', 'у', 'ф', 'х', 'ц', 'ч', 'ш', 'щ', 'ъ', 'ы', 'ь', 'э', 'ю', 'я', 'ё', 'ђ', 'ѓ', 'є', 'ѕ', 'і', 'ї', 'ј', 'љ', 'њ', 'ћ', 'ќ', 'ў', 'џ', 'ґ']\n",
      "\n",
      "\n",
      "{'\\t': 0, '\\x0b': 1, ' ': 2, '_': 3, 'a': 4, 'b': 5, 'c': 6, 'd': 7, 'e': 8, 'f': 9, 'g': 10, 'h': 11, 'i': 12, 'j': 13, 'k': 14, 'l': 15, 'm': 16, 'n': 17, 'o': 18, 'p': 19, 'q': 20, 'r': 21, 's': 22, 't': 23, 'u': 24, 'v': 25, 'w': 26, 'x': 27, 'y': 28, 'z': 29, '|': 30, 'µ': 31, 'ß': 32, 'á': 33, 'ä': 34, 'ó': 35, 'ö': 36, 'ü': 37, 'ý': 38, 'š': 39, 'а': 40, 'б': 41, 'в': 42, 'г': 43, 'д': 44, 'е': 45, 'ж': 46, 'з': 47, 'и': 48, 'й': 49, 'к': 50, 'л': 51, 'м': 52, 'н': 53, 'о': 54, 'п': 55, 'р': 56, 'с': 57, 'т': 58, 'у': 59, 'ф': 60, 'х': 61, 'ц': 62, 'ч': 63, 'ш': 64, 'щ': 65, 'ъ': 66, 'ы': 67, 'ь': 68, 'э': 69, 'ю': 70, 'я': 71, 'ё': 72, 'ђ': 73, 'ѓ': 74, 'є': 75, 'ѕ': 76, 'і': 77, 'ї': 78, 'ј': 79, 'љ': 80, 'њ': 81, 'ћ': 82, 'ќ': 83, 'ў': 84, 'џ': 85, 'ґ': 86}\n",
      "\n",
      "\n",
      "{0: '\\t', 1: '\\x0b', 2: ' ', 3: '_', 4: 'a', 5: 'b', 6: 'c', 7: 'd', 8: 'e', 9: 'f', 10: 'g', 11: 'h', 12: 'i', 13: 'j', 14: 'k', 15: 'l', 16: 'm', 17: 'n', 18: 'o', 19: 'p', 20: 'q', 21: 'r', 22: 's', 23: 't', 24: 'u', 25: 'v', 26: 'w', 27: 'x', 28: 'y', 29: 'z', 30: '|', 31: 'µ', 32: 'ß', 33: 'á', 34: 'ä', 35: 'ó', 36: 'ö', 37: 'ü', 38: 'ý', 39: 'š', 40: 'а', 41: 'б', 42: 'в', 43: 'г', 44: 'д', 45: 'е', 46: 'ж', 47: 'з', 48: 'и', 49: 'й', 50: 'к', 51: 'л', 52: 'м', 53: 'н', 54: 'о', 55: 'п', 56: 'р', 57: 'с', 58: 'т', 59: 'у', 60: 'ф', 61: 'х', 62: 'ц', 63: 'ч', 64: 'ш', 65: 'щ', 66: 'ъ', 67: 'ы', 68: 'ь', 69: 'э', 70: 'ю', 71: 'я', 72: 'ё', 73: 'ђ', 74: 'ѓ', 75: 'є', 76: 'ѕ', 77: 'і', 78: 'ї', 79: 'ј', 80: 'љ', 81: 'њ', 82: 'ћ', 83: 'ќ', 84: 'ў', 85: 'џ', 86: 'ґ'}\n",
      "\n",
      "\n"
     ]
    }
   ],
   "source": [
    "# Получаем все буквы из текста\n",
    "char_set = set()\n",
    "\n",
    "for poem in data_lower:\n",
    "    for char in poem:\n",
    "        char_set.add(char)\n",
    "        \n",
    "char_set.add('|')\n",
    "        \n",
    "def tokenize_words():\n",
    "    stroka =''\n",
    "    for row in data_lower:\n",
    "        tokenizer = RegexpTokenizer(r'\\w+')\n",
    "        tokens = tokenizer.tokenize(row)\n",
    "        stroka = stroka + \" \".join(tokens)\n",
    "    return stroka\n",
    "\n",
    "processed_inputs = tokenize_words()\n",
    "\n",
    "tokens = sorted(char_set)\n",
    "print(tokens)\n",
    "print('\\n')\n",
    "\n",
    "# Составляем словарь для идентификации букв.\n",
    "token_to_id = {char: i for i, char in enumerate(tokens)}\n",
    "print(token_to_id)\n",
    "print('\\n')\n",
    "\n",
    "id_to_token = {i: char for i, char in enumerate(tokens)}\n",
    "print(id_to_token)\n",
    "print('\\n')\n"
   ]
  },
  {
   "cell_type": "code",
   "execution_count": 115,
   "metadata": {},
   "outputs": [],
   "source": [
    "data['text'] = data_lower"
   ]
  },
  {
   "cell_type": "markdown",
   "metadata": {
    "id": "7xeKpLH3Kwc9"
   },
   "source": [
    "## 2.3 Инициализация объекта рекуррентной нейронной сети"
   ]
  },
  {
   "cell_type": "code",
   "execution_count": 116,
   "metadata": {
    "id": "mjsbLlkVSwiL"
   },
   "outputs": [],
   "source": [
    "from collections import Counter\n",
    "\n",
    "class Dataset(torch.utils.data.Dataset):\n",
    "    def __init__(self, data, token_to_id, max_sent_len):\n",
    "        self.sentences = data['text'].values\n",
    "        self.token_to_id = token_to_id\n",
    "        self.vocab_size = len(token_to_id)\n",
    "        self.max_sent_len = max_sent_len\n",
    "\n",
    "    def __len__(self):\n",
    "        return len(self.sentences)\n",
    "\n",
    "    def __getitem__(self, idx):\n",
    "        sentence = self.sentences[idx][:self.max_sent_len]\n",
    "        idxs = [self.token_to_id[c] for c in sentence]\n",
    "\n",
    "        return idxs\n",
    "\n",
    "def collate_fn(batch):\n",
    "    captions = get_padded(batch) \n",
    "\n",
    "    return torch.tensor(captions, dtype=torch.long)\n",
    "\n",
    "def get_padded(inputs): \n",
    "    max_len = max(map(len, inputs)) + 1\n",
    "\n",
    "    padded = np.array([input + [token_to_id['|']]*(max_len-len(input)) for input in inputs])\n",
    "    return padded"
   ]
  },
  {
   "cell_type": "code",
   "execution_count": 117,
   "metadata": {
    "scrolled": false
   },
   "outputs": [],
   "source": [
    "dataset = Dataset(data, token_to_id, max_sent_len=64)\n",
    "dataloader = torch.utils.data.DataLoader(dataset, batch_size=64, collate_fn=collate_fn, drop_last=True)"
   ]
  },
  {
   "cell_type": "code",
   "execution_count": 118,
   "metadata": {},
   "outputs": [],
   "source": [
    "from torch import nn\n",
    "\n",
    "class Model(nn.Module):\n",
    "    def __init__(self, dataset):\n",
    "        super(Model, self).__init__()\n",
    "        self.rnn_hidden_dim = 2048\n",
    "        self.embedding_dim = 512\n",
    "        self.num_layers = 2\n",
    "\n",
    "        n_vocab = dataset.vocab_size\n",
    "\n",
    "        self.embedding = nn.Embedding(\n",
    "            num_embeddings=n_vocab,\n",
    "            embedding_dim=self.embedding_dim,\n",
    "            padding_idx=token_to_id['|']\n",
    "        )\n",
    "\n",
    "        self.rnn = nn.RNN(\n",
    "            input_size=self.embedding_dim,\n",
    "            hidden_size=self.rnn_hidden_dim,\n",
    "            num_layers=self.num_layers,\n",
    "            dropout=0.2,\n",
    "            batch_first=True\n",
    "        )\n",
    "\n",
    "        self.fc = nn.Linear(self.rnn_hidden_dim, n_vocab)\n",
    "\n",
    "    def forward(self, x, prev_state):\n",
    "        embed = self.embedding(x)\n",
    "        output, state = self.rnn(embed, prev_state)\n",
    "        logits = self.fc(output)\n",
    "        return logits, state\n",
    "\n",
    "    def init_state(self, batch_size):\n",
    "        return torch.zeros(self.num_layers, batch_size, self.rnn_hidden_dim).cuda()\n",
    "\n",
    "model = Model(dataset).cuda()"
   ]
  },
  {
   "cell_type": "markdown",
   "metadata": {
    "id": "liOZimvTKwc-"
   },
   "source": [
    "## 2.4 Обучение обычной рекуррентной нейронной сети"
   ]
  },
  {
   "cell_type": "code",
   "execution_count": 119,
   "metadata": {
    "id": "DfTeyL-eS-nZ"
   },
   "outputs": [],
   "source": [
    "import argparse\n",
    "import torch\n",
    "import numpy as np\n",
    "from torch import nn, optim\n",
    "from torch.utils.data import DataLoader"
   ]
  },
  {
   "cell_type": "code",
   "execution_count": 120,
   "metadata": {},
   "outputs": [],
   "source": [
    "def train(model):\n",
    "    model.train()\n",
    "\n",
    "    criterion = nn.CrossEntropyLoss()\n",
    "    optimizer = optim.Adam(model.parameters(), lr=0.0005)\n",
    "\n",
    "    loss_history = []\n",
    "\n",
    "    for epoch in range(3):\n",
    "        state_h = model.init_state(dataloader.batch_size)\n",
    "\n",
    "        for batch, x in enumerate(dataloader):\n",
    "            optimizer.zero_grad()\n",
    "\n",
    "            y_pred, state_h = model(x.cuda(), state_h)\n",
    "            y_pred = y_pred[:, :-1, :].contiguous()\n",
    "\n",
    "            loss = criterion(y_pred.view(-1, y_pred.size(-1)), x[:, 1:].contiguous().cuda().view(-1))\n",
    "\n",
    "            state_h = state_h.detach()\n",
    "            loss_history.append(loss.item())\n",
    "\n",
    "            loss.backward()\n",
    "            optimizer.step()\n",
    "\n",
    "            if batch % 100 == 0:\n",
    "                print({ 'epoch': epoch+1, 'batch': batch, 'loss': loss.item()})\n",
    "    \n",
    "    return loss_history"
   ]
  },
  {
   "cell_type": "code",
   "execution_count": 121,
   "metadata": {},
   "outputs": [
    {
     "name": "stdout",
     "output_type": "stream",
     "text": [
      "{'epoch': 1, 'batch': 0, 'loss': 4.477314472198486}\n",
      "{'epoch': 1, 'batch': 100, 'loss': 2.1472859382629395}\n",
      "{'epoch': 1, 'batch': 200, 'loss': 2.0363857746124268}\n",
      "{'epoch': 1, 'batch': 300, 'loss': 1.9298828840255737}\n",
      "{'epoch': 1, 'batch': 400, 'loss': 1.886730432510376}\n",
      "{'epoch': 1, 'batch': 500, 'loss': 1.876570463180542}\n",
      "{'epoch': 1, 'batch': 600, 'loss': 1.7896223068237305}\n",
      "{'epoch': 1, 'batch': 700, 'loss': 1.7610969543457031}\n",
      "{'epoch': 1, 'batch': 800, 'loss': 1.7572237253189087}\n",
      "{'epoch': 1, 'batch': 900, 'loss': 1.7292702198028564}\n",
      "{'epoch': 1, 'batch': 1000, 'loss': 1.7233959436416626}\n",
      "{'epoch': 1, 'batch': 1100, 'loss': 1.6893641948699951}\n",
      "{'epoch': 1, 'batch': 1200, 'loss': 1.7385072708129883}\n",
      "{'epoch': 1, 'batch': 1300, 'loss': 1.6564233303070068}\n",
      "{'epoch': 1, 'batch': 1400, 'loss': 1.7112618684768677}\n",
      "{'epoch': 1, 'batch': 1500, 'loss': 1.6292232275009155}\n",
      "{'epoch': 1, 'batch': 1600, 'loss': 1.7070653438568115}\n",
      "{'epoch': 1, 'batch': 1700, 'loss': 1.667055606842041}\n",
      "{'epoch': 1, 'batch': 1800, 'loss': 1.7240142822265625}\n",
      "{'epoch': 1, 'batch': 1900, 'loss': 1.6100751161575317}\n",
      "{'epoch': 1, 'batch': 2000, 'loss': 1.6699132919311523}\n",
      "{'epoch': 1, 'batch': 2100, 'loss': 1.6047440767288208}\n",
      "{'epoch': 1, 'batch': 2200, 'loss': 1.6662297248840332}\n",
      "{'epoch': 1, 'batch': 2300, 'loss': 1.6747618913650513}\n",
      "{'epoch': 1, 'batch': 2400, 'loss': 1.6607258319854736}\n",
      "{'epoch': 1, 'batch': 2500, 'loss': 1.6351561546325684}\n",
      "{'epoch': 2, 'batch': 0, 'loss': 1.6559122800827026}\n",
      "{'epoch': 2, 'batch': 100, 'loss': 1.6368048191070557}\n",
      "{'epoch': 2, 'batch': 200, 'loss': 1.6853241920471191}\n",
      "{'epoch': 2, 'batch': 300, 'loss': 1.6567859649658203}\n",
      "{'epoch': 2, 'batch': 400, 'loss': 1.650399923324585}\n",
      "{'epoch': 2, 'batch': 500, 'loss': 1.693718671798706}\n",
      "{'epoch': 2, 'batch': 600, 'loss': 1.624685287475586}\n",
      "{'epoch': 2, 'batch': 700, 'loss': 1.6033109426498413}\n",
      "{'epoch': 2, 'batch': 800, 'loss': 1.6281660795211792}\n",
      "{'epoch': 2, 'batch': 900, 'loss': 1.611127257347107}\n",
      "{'epoch': 2, 'batch': 1000, 'loss': 1.6237443685531616}\n",
      "{'epoch': 2, 'batch': 1100, 'loss': 1.5855426788330078}\n",
      "{'epoch': 2, 'batch': 1200, 'loss': 1.6420115232467651}\n",
      "{'epoch': 2, 'batch': 1300, 'loss': 1.5670093297958374}\n",
      "{'epoch': 2, 'batch': 1400, 'loss': 1.6286594867706299}\n",
      "{'epoch': 2, 'batch': 1500, 'loss': 1.5549980401992798}\n",
      "{'epoch': 2, 'batch': 1600, 'loss': 1.632201910018921}\n",
      "{'epoch': 2, 'batch': 1700, 'loss': 1.6005613803863525}\n",
      "{'epoch': 2, 'batch': 1800, 'loss': 1.6531368494033813}\n",
      "{'epoch': 2, 'batch': 1900, 'loss': 1.5435326099395752}\n",
      "{'epoch': 2, 'batch': 2000, 'loss': 1.6109845638275146}\n",
      "{'epoch': 2, 'batch': 2100, 'loss': 1.5556999444961548}\n",
      "{'epoch': 2, 'batch': 2200, 'loss': 1.6242713928222656}\n",
      "{'epoch': 2, 'batch': 2300, 'loss': 1.6149171590805054}\n",
      "{'epoch': 2, 'batch': 2400, 'loss': 1.6126704216003418}\n",
      "{'epoch': 2, 'batch': 2500, 'loss': 1.57904851436615}\n",
      "{'epoch': 3, 'batch': 0, 'loss': 1.6074352264404297}\n",
      "{'epoch': 3, 'batch': 100, 'loss': 1.5980640649795532}\n",
      "{'epoch': 3, 'batch': 200, 'loss': 1.6486026048660278}\n",
      "{'epoch': 3, 'batch': 300, 'loss': 1.6248571872711182}\n",
      "{'epoch': 3, 'batch': 400, 'loss': 1.6225457191467285}\n",
      "{'epoch': 3, 'batch': 500, 'loss': 1.656030297279358}\n",
      "{'epoch': 3, 'batch': 600, 'loss': 1.5850002765655518}\n",
      "{'epoch': 3, 'batch': 700, 'loss': 1.5710593461990356}\n",
      "{'epoch': 3, 'batch': 800, 'loss': 1.593165636062622}\n",
      "{'epoch': 3, 'batch': 900, 'loss': 1.5845601558685303}\n",
      "{'epoch': 3, 'batch': 1000, 'loss': 1.586207389831543}\n",
      "{'epoch': 3, 'batch': 1100, 'loss': 1.5504662990570068}\n",
      "{'epoch': 3, 'batch': 1200, 'loss': 1.6099919080734253}\n",
      "{'epoch': 3, 'batch': 1300, 'loss': 1.5375723838806152}\n",
      "{'epoch': 3, 'batch': 1400, 'loss': 1.6076112985610962}\n",
      "{'epoch': 3, 'batch': 1500, 'loss': 1.5355890989303589}\n",
      "{'epoch': 3, 'batch': 1600, 'loss': 1.5989055633544922}\n",
      "{'epoch': 3, 'batch': 1700, 'loss': 1.5720645189285278}\n",
      "{'epoch': 3, 'batch': 1800, 'loss': 1.62675940990448}\n",
      "{'epoch': 3, 'batch': 1900, 'loss': 1.5308414697647095}\n",
      "{'epoch': 3, 'batch': 2000, 'loss': 1.5799373388290405}\n",
      "{'epoch': 3, 'batch': 2100, 'loss': 1.5410120487213135}\n",
      "{'epoch': 3, 'batch': 2200, 'loss': 1.5991425514221191}\n",
      "{'epoch': 3, 'batch': 2300, 'loss': 1.591140627861023}\n",
      "{'epoch': 3, 'batch': 2400, 'loss': 1.5955690145492554}\n",
      "{'epoch': 3, 'batch': 2500, 'loss': 1.5604183673858643}\n"
     ]
    }
   ],
   "source": [
    "loss_history = train(model)"
   ]
  },
  {
   "cell_type": "markdown",
   "metadata": {
    "id": "2K6Inp-qKwc_"
   },
   "source": [
    "## 2.5 Генерация текстов при помощи обычной рекуррентной сети"
   ]
  },
  {
   "cell_type": "code",
   "execution_count": 122,
   "metadata": {
    "id": "JRt6j0VsKhdW"
   },
   "outputs": [],
   "source": [
    "import torch.nn.functional as F\n",
    "\n",
    "\n",
    "def generate_sample(model, seed_phrase=' ', max_length=100, temperature=1):\n",
    "    model.eval()\n",
    "    x_sequence = [token_to_id[token] for token in seed_phrase]\n",
    "    x_sequence = torch.tensor([x_sequence], dtype=torch.int64).cuda()\n",
    "    hid_state = model.init_state(1).cuda()\n",
    "    for i in range(len(seed_phrase) - 1):\n",
    "        _, hid_state = model(x_sequence[:, i], hid_state.squeeze(1))\n",
    "    for _ in range(max_length - len(seed_phrase)):\n",
    "        output, hid_state = model(x_sequence[:, -1], hid_state.squeeze(1))\n",
    "\n",
    "        p_next = F.softmax(output / temperature, 1).data.cpu().numpy()[0]\n",
    "        next_ix = np.random.choice(len(token_to_id), p=p_next)\n",
    "        next_ix = torch.tensor([[next_ix]], dtype=torch.int64).cuda()\n",
    "        x_sequence = torch.cat([x_sequence, next_ix], dim=1)\n",
    "        \n",
    "    return ''.join([id_to_token[ix] for ix in x_sequence.cpu().data.numpy()[0]])"
   ]
  },
  {
   "cell_type": "code",
   "execution_count": 123,
   "metadata": {},
   "outputs": [
    {
     "name": "stdout",
     "output_type": "stream",
     "text": [
      "идёшь не ха егодна для тского я остановятся осени истину  как зн\n",
      "иться с тобой не потущить ненависти потихоньку тебя подар|те ест\n",
      "из гостисты и от ради мечты прибоя назван  прожил|если эдре|любо\n"
     ]
    }
   ],
   "source": [
    "for _ in range(3):\n",
    "    print(generate_sample(model, seed_phrase='и', max_length=64))"
   ]
  },
  {
   "cell_type": "code",
   "execution_count": 124,
   "metadata": {
    "scrolled": false
   },
   "outputs": [
    {
     "name": "stdout",
     "output_type": "stream",
     "text": [
      "весна  который свет лимон|иногда я пишу не брать  подобно к но| \n",
      "весна и поивает пото| своё |есть в|елях мир на успех идёт под ро\n",
      "весна укрыться любовь мне может быть по имя на крови містики сте\n"
     ]
    }
   ],
   "source": [
    "for _ in range(3):\n",
    "    print(generate_sample(model, seed_phrase='весна ', max_length=64))"
   ]
  },
  {
   "cell_type": "markdown",
   "metadata": {
    "id": "PQIhCxJsLRZA"
   },
   "source": [
    "## 2.6 Обучение рекуррентной нейронной сети с LSTM-ячейками"
   ]
  },
  {
   "cell_type": "code",
   "execution_count": 125,
   "metadata": {
    "id": "hzGeu7iXLRfl"
   },
   "outputs": [],
   "source": [
    "class LSTM(nn.Module):\n",
    "    def __init__(self, dataset):\n",
    "        super(LSTM, self).__init__()\n",
    "        self.rnn_hidden_dim = 2048\n",
    "        self.embedding_dim = 512\n",
    "        self.num_layers = 2\n",
    "\n",
    "        n_vocab = dataset.vocab_size\n",
    "\n",
    "        self.embedding = nn.Embedding(\n",
    "            num_embeddings=n_vocab,\n",
    "            embedding_dim=self.embedding_dim,\n",
    "            padding_idx=token_to_id['|']\n",
    "        )\n",
    "\n",
    "        self.rnn = nn.LSTM(\n",
    "            input_size=self.embedding_dim,\n",
    "            hidden_size=self.rnn_hidden_dim,\n",
    "            num_layers=self.num_layers,\n",
    "            dropout=0.2,\n",
    "            batch_first=True\n",
    "        )\n",
    "\n",
    "        self.fc = nn.Linear(self.rnn_hidden_dim, n_vocab)\n",
    "\n",
    "    def forward(self, x, prev_state):\n",
    "        embed = self.embedding(x)\n",
    "        output, state = self.rnn(embed, prev_state)\n",
    "        logits = self.fc(output)\n",
    "        return logits, state\n",
    "\n",
    "    def init_state(self, batch_size):\n",
    "        return (torch.zeros(self.num_layers, batch_size, self.rnn_hidden_dim),\n",
    "                torch.zeros(self.num_layers, batch_size, self.rnn_hidden_dim))\n",
    "\n",
    "lstm_model = LSTM(dataset).cuda()"
   ]
  },
  {
   "cell_type": "code",
   "execution_count": 126,
   "metadata": {},
   "outputs": [],
   "source": [
    "def train_lstm(model):\n",
    "    model.train()\n",
    "\n",
    "    criterion = nn.CrossEntropyLoss(ignore_index=token_to_id['|'])\n",
    "    optimizer = optim.Adam(model.parameters(), lr=0.0005)\n",
    "\n",
    "    loss_history = []\n",
    "\n",
    "    for epoch in range(1):\n",
    "        state_h, state_c = model.init_state(dataloader.batch_size)\n",
    "        state = state_h.cuda(), state_c.cuda()\n",
    "\n",
    "\n",
    "        for batch, x in enumerate(dataloader):\n",
    "            optimizer.zero_grad()\n",
    "\n",
    "            y_pred, state = model(x.cuda(), state)\n",
    "            y_pred = y_pred[:, :-1, :].contiguous()\n",
    "\n",
    "            loss = criterion(y_pred.view(-1, y_pred.size(-1)), x[:, 1:].contiguous().cuda().view(-1))\n",
    "\n",
    "            state_h, state_c = state\n",
    "            state = state_h.detach(), state_c.detach()\n",
    "            loss_history.append(loss.item())\n",
    "\n",
    "            loss.backward()\n",
    "            optimizer.step()\n",
    "\n",
    "            if batch % 1000 == 0:\n",
    "                print({ 'epoch': epoch+1, 'batch': batch, 'loss': loss.item()})\n",
    "    \n",
    "    return loss_history"
   ]
  },
  {
   "cell_type": "code",
   "execution_count": 129,
   "metadata": {},
   "outputs": [
    {
     "name": "stdout",
     "output_type": "stream",
     "text": [
      "{'epoch': 1, 'batch': 0, 'loss': 4.458916187286377}\n",
      "{'epoch': 1, 'batch': 1000, 'loss': 1.5625067949295044}\n",
      "{'epoch': 1, 'batch': 2000, 'loss': 1.4905141592025757}\n"
     ]
    }
   ],
   "source": [
    "loss_history_lstm = train_lstm(lstm_model)"
   ]
  },
  {
   "cell_type": "markdown",
   "metadata": {
    "id": "hodfK4dxLWO3"
   },
   "source": [
    "## 2.7 Генерация текстов с разной температурой\n",
    "\n",
    "Попробуйте сгенерировать тексты с температурой из списка: `[0.1, 0.2, 0.4, 0.6, 0.8, 1.0]` (см. нотубук с семинара по RNN)"
   ]
  },
  {
   "cell_type": "code",
   "execution_count": 130,
   "metadata": {
    "id": "5SsbA8hSLWWJ"
   },
   "outputs": [],
   "source": [
    "def generate_sample(model, seed_phrase=' ', max_length=100, temperature=1):\n",
    "    model.eval()\n",
    "    x_sequence = [token_to_id[token] for token in seed_phrase]\n",
    "    x_sequence = torch.tensor([x_sequence], dtype=torch.int64).cuda()\n",
    "    state_h, state_c = model.init_state(1)\n",
    "    state = state_h.squeeze(1).cuda(), state_c.squeeze(1).cuda()\n",
    "    \n",
    "    for i in range(len(seed_phrase) - 1):\n",
    "        _, state = model(x_sequence[:, i], state)\n",
    "    \n",
    "    for _ in range(max_length - len(seed_phrase)):\n",
    "        output, state = model(x_sequence[:, -1], state)\n",
    "\n",
    "\n",
    "        p_next = F.softmax(output / temperature, 1).data.cpu().numpy()[0]\n",
    "\n",
    "        next_ix = np.random.choice(len(token_to_id), p=p_next)\n",
    "        next_ix = torch.tensor([[next_ix]], dtype=torch.int64).cuda()\n",
    "        x_sequence = torch.cat([x_sequence, next_ix], dim=1)\n",
    "\n",
    "        \n",
    "    return ''.join([id_to_token[ix] for ix in x_sequence.cpu().data.numpy()[0]])"
   ]
  },
  {
   "cell_type": "code",
   "execution_count": 131,
   "metadata": {},
   "outputs": [
    {
     "name": "stdout",
     "output_type": "stream",
     "text": [
      "Температура 0.1\n",
      "сердце                                                          \n",
      "сердце                                                          \n",
      "привет                                                          \n",
      "привет                                                          \n",
      "весна                                                           \n",
      "весна                                                           \n",
      "\n",
      "Температура 0.2\n",
      "сердце   в котором мне не станет себя                           \n",
      "сердце стало по просторам старинной старый снег                 \n",
      "привет                                                          \n",
      "привет                                                          \n",
      "весна                                                           \n",
      "весна                                                           \n",
      "\n",
      "Температура 0.4\n",
      "сердце под строкой на стекле в одном а в доме   за привычку в те\n",
      "сердце     походка на луну  собчак по прежнему   не просто  но н\n",
      "привет  не заметил  а ты не просто найдёшь мне на свете  не прощ\n",
      "привет                                    читая ленинграда      \n",
      "весна в городе пролетает в бокале как мороз в каждой поле на пла\n",
      "весна и за меня молодость    по себе и на тебе я сам себя собой \n",
      "\n",
      "Температура 0.6\n",
      "сердце мое  как будто в прощание природы до пора в детстве   а н\n",
      "сердце в лесу с слезой простой смотреть в таких часто дело не по\n",
      "привет меня в каждой реальности я в спину  не важно ты ведь не о\n",
      "привет  как в твоих глазах ты для меня  как люблю когда мне было\n",
      "весна в тучах мелких лучах но не скажу что придется и что то не \n",
      "весна  за окном все на поле без оградой и образов простужен как \n",
      "\n",
      "Температура 0.8\n",
      "сердце меня поджесть мои  строгоньки когда не будет биль  задыха\n",
      "сердце песнь   это женщины  дождь  а душой кирпично что в центре\n",
      "привет за сперту белой строчка за собой жил из металлог  русский\n",
      "привет в твоих глазах я помню отчаянье и могут в детстве от редк\n",
      "весна прилвенит  смерть стала яркой которой во тьме голова и под\n",
      "весна и тик на мелких слов и поделилась с души за окном  фортуно\n",
      "\n",
      "Температура 1.0\n",
      "сердце открыто и пенять  себя  и чтобы стали всё хрустим влетать\n",
      "сердце терпеть мне жать на свете за людей не лёт уже зимы и трев\n",
      "привет  всё останется о женщине в рай на вершенстве я уж забыл м\n",
      "привет любать прочь тебя любить тебя  ждёшь к воле  я боясь уже \n",
      "весна где парял сентинада там девочка столица  как редко тогда п\n",
      "весна майадам векла для пена она уже не с безрушкой души чёткий \n",
      "\n"
     ]
    }
   ],
   "source": [
    "for t in [0.1, 0.2, 0.4, 0.6, 0.8, 1.0]:\n",
    "    print(f\"Температура {t}\")\n",
    "    for _ in range(2):\n",
    "        print(generate_sample(lstm_model, seed_phrase='сердце ', max_length=64, temperature=t))\n",
    "    for _ in range(2):\n",
    "        print(generate_sample(lstm_model, seed_phrase='привет ', max_length=64, temperature=t))\n",
    "    for _ in range(2):\n",
    "        print(generate_sample(lstm_model, seed_phrase='весна ', max_length=64, temperature=t))\n",
    "    print()"
   ]
  },
  {
   "cell_type": "markdown",
   "metadata": {
    "id": "wmkAq2N7LdzA"
   },
   "source": [
    "## 2.8 Выводы"
   ]
  },
  {
   "cell_type": "markdown",
   "metadata": {
    "id": "KdFzjKnbV4yG"
   },
   "source": []
  },
  {
   "cell_type": "code",
   "execution_count": null,
   "metadata": {},
   "outputs": [],
   "source": [
    "Составить из букв слова более менее получилось, но составить из слов осмысленный текст - нет. \n",
    "Наверно это связано с размера датасета и времненем обучения."
   ]
  }
 ],
 "metadata": {
  "accelerator": "GPU",
  "colab": {
   "collapsed_sections": [],
   "name": "oirs_hw_3.ipynb",
   "provenance": []
  },
  "kernelspec": {
   "display_name": "Python 3 (ipykernel)",
   "language": "python",
   "name": "python3"
  },
  "language_info": {
   "codemirror_mode": {
    "name": "ipython",
    "version": 3
   },
   "file_extension": ".py",
   "mimetype": "text/x-python",
   "name": "python",
   "nbconvert_exporter": "python",
   "pygments_lexer": "ipython3",
   "version": "3.8.10"
  }
 },
 "nbformat": 4,
 "nbformat_minor": 1
}
